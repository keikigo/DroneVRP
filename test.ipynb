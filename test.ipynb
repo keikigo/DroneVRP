{
 "cells": [
  {
   "cell_type": "code",
   "execution_count": 1,
   "metadata": {},
   "outputs": [
    {
     "name": "stdout",
     "output_type": "stream",
     "text": [
      "SA_60_2_0\n"
     ]
    }
   ],
   "source": [
    "from src.milp import Milp\n",
    "from src.sa import SA\n",
    "\n",
    "# for n in range(20, 101, 20):\n",
    "for n in [60]:\n",
    "    for n_d in [2]:\n",
    "        # for q in [10]:\n",
    "        # for seed in [0]:\n",
    "        # for tau in [20]:\n",
    "            config = {\n",
    "                'use_heuristic': True,\n",
    "                'file': 'r101.txt',\n",
    "                'folder': 'dataset',\n",
    "                'name': 'r101',\n",
    "                'dataset': 'solomon',\n",
    "                'seed_sampling': 1000,\n",
    "                'x_max': 8000, #m\n",
    "                'q_max': 7.5, #kg\n",
    "                't_max': 300, #min\n",
    "                'v_t': 500, #m/min\n",
    "                'v_d': 600, #m/min\n",
    "                \n",
    "                'fixed': False,\n",
    "                'lambda': 0.8,\n",
    "                'n': n,\n",
    "                'n_d': n_d,\n",
    "                'n_l': 2,\n",
    "                'P': 4,\n",
    "                'Q': 5,    #kg\n",
    "                'alpha': 30,  #min\n",
    "                'beta': 2,\n",
    "                'tau': 20,\n",
    "                \n",
    "                \n",
    "                'gap': 0.0001,\n",
    "                'timelimit': 1800,\n",
    "                \n",
    "                'seed':0,\n",
    "                'T_0': 1,\n",
    "                'T_1': 0.01,\n",
    "                'iter': 100,\n",
    "                'r': 0.995,\n",
    "                'patience': 5000,\n",
    "                'epsilon': 0.001\n",
    "                }\n",
    "            config['n_t'] = round(config['n']/10)\n",
    "            if config['use_heuristic']:\n",
    "                # config['type'] = \"SA\"\n",
    "                config['type'] = \"SA\"\n",
    "                # config['type'] = f\"SA{int(10*config['q_max'])}\"\n",
    "                config['name'] = f\"{config['type']}_{config['n']}_{config['n_d']}_{config['seed']}\"\n",
    "                P = SA(config)\n",
    "                print(config['name'])\n",
    "                P.solve()\n",
    "            else:\n",
    "                if config['fixed']:\n",
    "                    # config['type'] = f\"MILP{int(10*config['q_max'])}F\"\n",
    "                    config['type'] = f\"M{config['tau']}F_test\"\n",
    "                else:\n",
    "                    # config['type'] = f\"MILP{int(10*config['q_max'])}F\"\n",
    "                    config['type'] = f\"MILP\"\n",
    "                # config['name'] = f\"{config['type']}_{config['n']}_{config['n_d']}\"\n",
    "                config['name'] = 'test'\n",
    "                P = Milp(config)\n",
    "                print(config['name'])\n",
    "                P.solve()\n",
    "                # m,sol=P.solve()\n",
    "                # r_t,r_d=sol[0],sol[1]\n",
    "                # display(r_d)/"
   ]
  },
  {
   "cell_type": "code",
   "execution_count": 2,
   "metadata": {},
   "outputs": [],
   "source": [
    "c1,c2,c3=P.solve()"
   ]
  },
  {
   "cell_type": "code",
   "execution_count": 12,
   "metadata": {},
   "outputs": [
    {
     "name": "stdout",
     "output_type": "stream",
     "text": [
      "<bound method LocalSearch.Nt_1 of <src.sa.SA object at 0x129878890>> 1475 1475 361 29.373031889397605\n",
      "<bound method LocalSearch.Nt_2 of <src.sa.SA object at 0x129878890>> 1490 1490 395 -7.291599945867048\n",
      "<bound method LocalSearch.Nt_3 of <src.sa.SA object at 0x129878890>> 1428 1428 389 -9.65119169755236\n",
      "<bound method LocalSearch.Nt_4 of <src.sa.SA object at 0x129878890>> 301 301 3 5.9360122106205555\n",
      "<bound method LocalSearch.Ntt_1 of <src.sa.SA object at 0x129878890>> 1537 1537 87 -28.93186882718886\n",
      "<bound method LocalSearch.Ntt_2 of <src.sa.SA object at 0x129878890>> 1500 1500 43 -19.814543219635038\n",
      "<bound method LocalSearch.Ntt_4 of <src.sa.SA object at 0x129878890>> 1462 1462 68 -22.640756409040094\n",
      "<bound method LocalSearch.Ntt_5 of <src.sa.SA object at 0x129878890>> 1436 1436 68 -48.26097785049659\n",
      "<bound method LocalSearch.Nd_1 of <src.sa.SA object at 0x129878890>> 576 567 481 8.531252554223597\n",
      "<bound method LocalSearch.Nd_2 of <src.sa.SA object at 0x129878890>> 605 597 528 -9.71257310792135\n",
      "<bound method LocalSearch.Ndd_1 of <src.sa.SA object at 0x129878890>> 587 57 21 1.9676232060573093\n",
      "<bound method LocalSearch.Ndd_2 of <src.sa.SA object at 0x129878890>> 532 268 84 -4.7780492129053\n",
      "<bound method LocalSearch.Ntd_1 of <src.sa.SA object at 0x129878890>> 980 52 38 -52.32544555374898\n",
      "<bound method LocalSearch.Ntd_2 of <src.sa.SA object at 0x129878890>> 1017 1017 29 19.907092074849206\n",
      "<bound method LocalSearch.Ntd_3 of <src.sa.SA object at 0x129878890>> 1008 1008 54 -2.8878465904994868\n"
     ]
    }
   ],
   "source": [
    "for key in c1.keys():\n",
    "    print(key,len(c1[key]),len(c2[key]),len(c3[key]),sum(c3[key]))"
   ]
  }
 ],
 "metadata": {
  "kernelspec": {
   "display_name": ".drone",
   "language": "python",
   "name": "python3"
  },
  "language_info": {
   "codemirror_mode": {
    "name": "ipython",
    "version": 3
   },
   "file_extension": ".py",
   "mimetype": "text/x-python",
   "name": "python",
   "nbconvert_exporter": "python",
   "pygments_lexer": "ipython3",
   "version": "3.11.9"
  }
 },
 "nbformat": 4,
 "nbformat_minor": 2
}
